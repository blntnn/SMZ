{
 "cells": [
  {
   "cell_type": "code",
   "execution_count": 1,
   "metadata": {
    "executionInfo": {
     "elapsed": 5025,
     "status": "ok",
     "timestamp": 1702060650082,
     "user": {
      "displayName": "Adlisse",
      "userId": "09888939323989321551"
     },
     "user_tz": -180
    },
    "id": "oEBABka8riul"
   },
   "outputs": [],
   "source": [
    "import numpy as np\n",
    "import torch\n",
    "from torch.nn.functional import conv2d as libConv2d"
   ]
  },
  {
   "cell_type": "code",
   "execution_count": 11,
   "metadata": {
    "executionInfo": {
     "elapsed": 22,
     "status": "ok",
     "timestamp": 1702060650083,
     "user": {
      "displayName": "Adlisse",
      "userId": "09888939323989321551"
     },
     "user_tz": -180
    },
    "id": "4yUQk6hMriup"
   },
   "outputs": [],
   "source": [
    "class Conv2D:\n",
    "    def __init__(self, \n",
    "                 input_data, \n",
    "                 kernel_size: tuple | int, \n",
    "                 bias: float | None = None,\n",
    "                 stride: int = 1, \n",
    "                 padding: tuple[int, int] | int | str = (0, 0), \n",
    "                 dilation: int = 1\n",
    "                 ):\n",
    "        self.input_data_numpy = input_data[0, 0].numpy()\n",
    "        self.input_data_torch = input_data\n",
    "        self.bias = bias\n",
    "        if type(kernel_size) == int:\n",
    "            self.kernel_size = (kernel_size, kernel_size) \n",
    "        else: \n",
    "            self.kernel_size = kernel_size\n",
    "        self.stride  = stride\n",
    "        self.dilation = dilation\n",
    "        if isinstance(padding, tuple):\n",
    "            self.padding = padding[0]\n",
    "        elif padding == \"same\" and stride == 1:\n",
    "                self.padding = self.kernel_size[0] - 1\n",
    "        else: \n",
    "            self.padding = 0\n",
    "        self.weight_tensor_torch = torch.randn(1, 1, *self.kernel_size)\n",
    "        self.weight_tensor_numpy = self.weight_tensor_torch[0, 0].numpy()\n",
    "\n",
    "    def conv2d(self):\n",
    "        image_height, image_width = self.input_data_numpy.shape\n",
    "        weight_height, weight_width = self.weight_tensor_numpy.shape\n",
    "        H_out = int((image_height - self.dilation * (weight_height - 1) - 1 + 2 * self.padding) / self.stride) + 1\n",
    "        W_out = int((image_width - self.dilation * (weight_width - 1) - 1 + 2 * self.padding) / self.stride) + 1\n",
    "        if self.bias:\n",
    "            result += self.bias\n",
    "        if self.padding > 0:\n",
    "            self.input_data_numpy = np.pad(self.input_data_numpy, self.padding, mode='constant') \n",
    "        else:\n",
    "            self.input_data_numpy = self.input_data_numpy\n",
    "        result = np.array([[np.sum(self.input_data_numpy[y * self.stride:y * self.stride + weight_height,\n",
    "                x * self.stride:x * self.stride + weight_width] * self.weight_tensor_numpy) for x in range(W_out)] for y in range(H_out)])\n",
    "\n",
    "        return result\n",
    "\n",
    "    def torch_conv2d(self):\n",
    "        return libConv2d(self.input_data_torch, self.weight_tensor_torch, self.bias, self.stride, self.padding,\n",
    "                         self.dilation)\n",
    "\n",
    "    def test(self, print_flag=False):\n",
    "        my_conv2d = self.conv2d()\n",
    "        torch_out = np.array(self.torch_conv2d())\n",
    "        if print_flag:\n",
    "            print(my_conv2d)\n",
    "            print(torch_out[0, 0])\n",
    "        print(np.allclose(my_conv2d, torch_out[0, 0]))"
   ]
  },
  {
   "cell_type": "markdown",
   "metadata": {},
   "source": [
    "### Проверяем работоспособность функции:"
   ]
  },
  {
   "cell_type": "markdown",
   "metadata": {},
   "source": [
    "#### ТЕСТЫ"
   ]
  },
  {
   "cell_type": "code",
   "execution_count": 13,
   "metadata": {
    "colab": {
     "base_uri": "https://localhost:8080/"
    },
    "executionInfo": {
     "elapsed": 21,
     "status": "ok",
     "timestamp": 1702060650083,
     "user": {
      "displayName": "Adlisse",
      "userId": "09888939323989321551"
     },
     "user_tz": -180
    },
    "id": "en4mN9C9tir1",
    "outputId": "0659f3a9-c298-4de2-f8c8-c806ac98452f"
   },
   "outputs": [
    {
     "name": "stdout",
     "output_type": "stream",
     "text": [
      "True\n",
      "True\n",
      "True\n",
      "True\n",
      "True\n",
      "True\n"
     ]
    }
   ],
   "source": [
    "# Tests\n",
    "image = torch.randn(1, 1, 5, 5)\n",
    "test1 = Conv2D(image, kernel_size=2)\n",
    "test1.test()\n",
    "\n",
    "image = torch.randn(1, 1, 5, 5)\n",
    "test2 = Conv2D(image, kernel_size=2, padding='valid')\n",
    "test2.test()\n",
    "\n",
    "image = torch.randn(1, 1, 5, 5)\n",
    "test3 = Conv2D(image, kernel_size=2, padding='same')\n",
    "test3.test()\n",
    "\n",
    "image = torch.randn(1, 1, 5, 5)\n",
    "test4 = Conv2D(image, kernel_size=1, padding='same')\n",
    "test4.test()\n",
    "\n",
    "image = torch.randn(1, 1, 5, 5)\n",
    "test5 = Conv2D(image, kernel_size=1, dilation=3)\n",
    "test5.test()\n",
    "\n",
    "image = torch.randn(1, 1, 5, 5)\n",
    "test6 = Conv2D(image, kernel_size=2, stride=4)\n",
    "test6.test()\n"
   ]
  },
  {
   "cell_type": "markdown",
   "metadata": {},
   "source": [
    "### Результаты совпадают "
   ]
  },
  {
   "cell_type": "markdown",
   "metadata": {},
   "source": []
  }
 ],
 "metadata": {
  "colab": {
   "provenance": []
  },
  "kernelspec": {
   "display_name": "Python 3 (ipykernel)",
   "language": "python",
   "name": "python3"
  },
  "language_info": {
   "codemirror_mode": {
    "name": "ipython",
    "version": 3
   },
   "file_extension": ".py",
   "mimetype": "text/x-python",
   "name": "python",
   "nbconvert_exporter": "python",
   "pygments_lexer": "ipython3",
   "version": "3.11.4"
  }
 },
 "nbformat": 4,
 "nbformat_minor": 4
}
